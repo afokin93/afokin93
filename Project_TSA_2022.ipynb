{
  "nbformat": 4,
  "nbformat_minor": 0,
  "metadata": {
    "colab": {
      "provenance": [],
      "include_colab_link": true
    },
    "kernelspec": {
      "name": "python3",
      "display_name": "Python 3"
    },
    "language_info": {
      "name": "python"
    }
  },
  "cells": [
    {
      "cell_type": "markdown",
      "metadata": {
        "id": "view-in-github",
        "colab_type": "text"
      },
      "source": [
        "<a href=\"https://colab.research.google.com/github/afokin93/afokin93/blob/main/Project_TSA_2022.ipynb\" target=\"_parent\"><img src=\"https://colab.research.google.com/assets/colab-badge.svg\" alt=\"Open In Colab\"/></a>"
      ]
    },
    {
      "cell_type": "code",
      "execution_count": 4,
      "metadata": {
        "id": "IDzVI1kkqK9z",
        "colab": {
          "base_uri": "https://localhost:8080/"
        },
        "outputId": "f0883609-ef1c-46a4-ec0b-91ed17354e87"
      },
      "outputs": [
        {
          "output_type": "stream",
          "name": "stdout",
          "text": [
            "hello, world!\n",
            "tafula\n",
            "xxxy\n"
          ]
        }
      ],
      "source": [
        "## teste\n",
        "print(\"hello, world!\")\n",
        "print(\"tafula\")\n",
        "print(\"xxxy\")"
      ]
    },
    {
      "cell_type": "markdown",
      "source": [
        "# New section"
      ],
      "metadata": {
        "id": "3Bm_m7URrZHJ"
      }
    }
  ]
}